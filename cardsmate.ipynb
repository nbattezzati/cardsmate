{
 "cells": [
  {
   "cell_type": "markdown",
   "metadata": {},
   "source": [
    "### Import and definitions"
   ]
  },
  {
   "cell_type": "code",
   "execution_count": null,
   "metadata": {},
   "outputs": [],
   "source": [
    "import random"
   ]
  },
  {
   "cell_type": "code",
   "execution_count": null,
   "metadata": {},
   "outputs": [],
   "source": [
    "MAX_HAND_CARDS = 3"
   ]
  },
  {
   "cell_type": "code",
   "execution_count": null,
   "metadata": {},
   "outputs": [],
   "source": [
    "class Card:\n",
    "    def __init__(self, value, seed):\n",
    "        self.__s = seed\n",
    "        self.__v = value\n",
    "    \n",
    "    def __repr__(self):\n",
    "        return str(self.__v) + str(self.__s)\n",
    "    \n",
    "    @property\n",
    "    def s(self):\n",
    "        return self.__s\n",
    "    \n",
    "    @property\n",
    "    def v(self):\n",
    "        return self.__v"
   ]
  },
  {
   "cell_type": "code",
   "execution_count": null,
   "metadata": {},
   "outputs": [],
   "source": [
    "class Deck:\n",
    "    seeds = ['d', 's', 'b', 'c']\n",
    "    cards_per_seed = 7\n",
    "    \n",
    "    def __init__(self):\n",
    "        self.__cards = []\n",
    "        for s in self.seeds:\n",
    "            for i in range(1,self.cards_per_seed+1):\n",
    "                self.__cards.append(Card(i, s))\n",
    "            \n",
    "    def __len__(self):\n",
    "        return len(self.__cards)\n",
    "    \n",
    "    def shuffle(self):\n",
    "        return random.shuffle(self.__cards)\n",
    "        \n",
    "    def pop(self):\n",
    "        return self.__cards.pop()"
   ]
  },
  {
   "cell_type": "markdown",
   "metadata": {},
   "source": [
    "### Game functions"
   ]
  },
  {
   "cell_type": "code",
   "execution_count": null,
   "metadata": {},
   "outputs": [],
   "source": [
    "def check_pick_rules(table, tbl_indexes, picking_card):\n",
    "    \n",
    "    # check if picking card sums up equal to the desired cards\n",
    "    cards = [c for ind, c in enumerate(table) if ind in tbl_indexes]\n",
    "    if picking_card.v != sum(c.v for c in cards):\n",
    "        return False\n",
    "    \n",
    "    # check if there is an equal value card instead of summing\n",
    "    if len(cards) > 1 and len([c for c in table if c.v == picking_card.v]):\n",
    "        return False\n",
    "    \n",
    "    return True\n",
    "\n",
    "\n",
    "def check_scopa(table, deck, pl1_cards, pl2_cards):\n",
    "    # scopa if table is empty but there still some card either in the deck or in players' hands\n",
    "    return len(table) == 0 and (lend(deck) != 0 or (len(pl1_cards)+len(pl2_cards) != 0))\n",
    "\n",
    "\n",
    "def count_points(deck):\n",
    "    # carte\n",
    "    tmpDeck = Deck()\n",
    "    my_points += 1 if (len(deck) > len(tmpDeck)/2) else 0\n",
    "    # denari\n",
    "    my_points += 1 if (len([c for c in deck if c.s == 'd']) > 5) else 0 \n",
    "    # settebello\n",
    "    my_points += 1 if len([c for c in deck if c.v == 7 and c.s == 'd']) else 0\n",
    "    # primiera\n",
    "    my_points += "
   ]
  },
  {
   "cell_type": "code",
   "execution_count": 1,
   "metadata": {},
   "outputs": [],
   "source": [
    "def give_cards(deck, player_cards, num):\n",
    "    if len(deck):\n",
    "        for i in range(0, num):\n",
    "            player_cards.append(deck.pop())\n",
    "        return True\n",
    "    return False\n",
    "    \n",
    "    \n",
    "def pick_cards(table, tbl_indexes, player_cards, pl_index):\n",
    "    # check indexes\n",
    "    if pl_index >= len(player_cards) or len([i for i in tbl_indexes if i >= len(table)]):\n",
    "        return []\n",
    "    # check rules\n",
    "    cards = []\n",
    "    picking_card = player_cards[pl_index]\n",
    "    if check_pick_rules(table, tbl_indexes, picking_card) == True:\n",
    "        # pick cards\n",
    "        cards = [c for i,c in enumerate(table) if i in tbl_indexes]\n",
    "        for i in sorted(tbl_indexes, reverse=True):\n",
    "            del table[i]\n",
    "        cards.append(player_cards.pop(pl_index))\n",
    "    return cards\n",
    "    \n",
    "    \n",
    "def draw_card(table, player_cards, index):\n",
    "    if index < len(player_cards):\n",
    "        table.append(player_cards.pop(index))"
   ]
  },
  {
   "cell_type": "markdown",
   "metadata": {},
   "source": [
    "### HM Interface"
   ]
  },
  {
   "cell_type": "code",
   "execution_count": null,
   "metadata": {},
   "outputs": [],
   "source": [
    "def parse_play(play_str):\n",
    "    play = {}\n",
    "    cmd = play_str.split(':')[0]\n",
    "    if cmd == \"PRENDO\":\n",
    "        play['type'] = cmd\n",
    "        play['pick_options'] = [list(map(int,play_str.split(':')[1].split(','))), list(map(int,play_str.split(':')[2].split(',')))]\n",
    "    elif cmd == \"CALO\":\n",
    "        play['type'] = cmd\n",
    "        play['pick_options'] = [[], list(map(int,play_str.split(':')[1].split(',')))]\n",
    "    else:\n",
    "        print(\"Comando invalido. Possibili comandi sono: PRENDO:t1,t2,...:c oppure CALO:c\")\n",
    "    print(\"PARSE PLAY: \" + str(play))\n",
    "    return play\n",
    "\n",
    "\n",
    "def print_status(table, my_cards, opp_cards):\n",
    "    print(\"Table: \" + str(table) + \" - My Cards: \" + str(my_cards) + \" - Your Cards: \" + str(opp_cards))"
   ]
  },
  {
   "cell_type": "markdown",
   "metadata": {},
   "source": [
    "### IntelliPlay"
   ]
  },
  {
   "cell_type": "code",
   "execution_count": null,
   "metadata": {},
   "outputs": [],
   "source": [
    "# TODO: check_pick_option has an error ==> valid result like PRENDO [1c] con 5d\n",
    "def check_pick_option(table, my_cards):\n",
    "    # check if I have a card equal to one on the table\n",
    "    for my_i, my_c in enumerate(my_cards):\n",
    "        for t_i, t_c in enumerate(table):\n",
    "            if my_c.v == t_c.v:\n",
    "                return [[t_i],[my_i]]\n",
    "    \n",
    "    # check if I can make a sum\n",
    "    for my_i, my_c in enumerate(my_cards):\n",
    "        # take table indexes in order elements are sorted by value\n",
    "        sorted_tbl_indexes = [i for i, c in sorted(enumerate(table), key=lambda x: x[1].v)]\n",
    "        sum_table = 0\n",
    "        for i,index in enumerate(sorted_tbl_indexes):\n",
    "            sum_table += table[index].v\n",
    "            if sum_table == my_c.v:\n",
    "                return [sorted_tbl_indexes[0:i+1], [my_i]]\n",
    "\n",
    "    # cannot pick anything, return an empty set\n",
    "    return []"
   ]
  },
  {
   "cell_type": "markdown",
   "metadata": {},
   "source": [
    "### Main"
   ]
  },
  {
   "cell_type": "code",
   "execution_count": null,
   "metadata": {},
   "outputs": [],
   "source": [
    "# create and the deck\n",
    "deck = Deck()\n",
    "deck.shuffle()\n",
    "\n",
    "my_cards = []\n",
    "my_deck = []\n",
    "my_points = 0\n",
    "opp_cards = []\n",
    "opp_deck = []\n",
    "opp_points = 0\n",
    "table = []\n",
    "\n",
    "loop_cnt = 0\n",
    "while(give_cards(deck, opp_cards, 3)):\n",
    "    print(\"Do le carte!\")\n",
    "    give_cards(deck, my_cards, 3)\n",
    "    \n",
    "    if loop_cnt == 0:\n",
    "        give_cards(deck, table, 4)\n",
    "    \n",
    "    play_cnt = 0\n",
    "    while play_cnt < 3:\n",
    "        # make opponent play (TODO...)\n",
    "        # how to make this interactive ???\n",
    "        play = {}\n",
    "        while len(play) == 0:\n",
    "            print_status(table, my_cards, opp_cards)\n",
    "            play_str = input(\"cosa vuoi fare?\")\n",
    "            play = parse_play(play_str)\n",
    "        if play['type'] == \"PRENDO\":\n",
    "            opp_deck += pick_cards(table, play['pick_options'][0], opp_cards, play['pick_options'][1][0])\n",
    "        else:\n",
    "            draw_card(table, opp_cards, play['pick_options'][1][0])\n",
    "\n",
    "        # check for \"scopa\"\n",
    "        opp_points += check_scopa(table, deck, my_cards, opp_cards)\n",
    "        print_status(table, my_cards, opp_cards)\n",
    "        \n",
    "        # make my play\n",
    "        pick_options = check_pick_option(table, my_cards)\n",
    "        if len(pick_options):\n",
    "            print(\"Mio turno: PRENDO \" + str([c for i,c in enumerate(table) if i in pick_options[0]]) + \" con \" + str(my_cards[pick_options[1][0]]))\n",
    "            my_deck += pick_cards(table, pick_options[0], my_cards, pick_options[1][0])\n",
    "        else:\n",
    "            random_draw = random.randrange(0,len(my_cards))\n",
    "            print(\"Mio turno: CALO \" + str(my_cards[random_draw]))\n",
    "            draw_card(table, my_cards, random_draw)\n",
    "        \n",
    "        # check for \"scopa\"\n",
    "        my_points += check_scopa(table, deck, my_cards, opp_cards)\n",
    "        \n",
    "        # increment play_cnt\n",
    "        play_cnt += 1\n",
    "        \n",
    "    # increment loop count\n",
    "    loop_cnt += 1\n",
    "    \n",
    "# collect cards on the table at the last hand\n",
    "        \n",
    "my_points += count_points(my_deck)\n",
    "opp_points += count_points(opp_deck)\n",
    "print(\"Partita finita, grazie!\")"
   ]
  },
  {
   "cell_type": "code",
   "execution_count": null,
   "metadata": {},
   "outputs": [],
   "source": [
    "table"
   ]
  },
  {
   "cell_type": "code",
   "execution_count": null,
   "metadata": {},
   "outputs": [],
   "source": [
    "pick_options = check_pick_option(table, my_cards)\n",
    "        if len(pick_options):\n",
    "            pick_options\n",
    "        else:\n",
    "            Null"
   ]
  },
  {
   "cell_type": "code",
   "execution_count": null,
   "metadata": {},
   "outputs": [],
   "source": [
    "my_deck += pick_cards(table, [1], my_cards, 0)\n",
    "my_deck"
   ]
  },
  {
   "cell_type": "code",
   "execution_count": null,
   "metadata": {},
   "outputs": [],
   "source": [
    "draw_card(table, my_cards, 0)"
   ]
  }
 ],
 "metadata": {
  "kernelspec": {
   "display_name": "Python 3",
   "language": "python",
   "name": "python3"
  },
  "language_info": {
   "codemirror_mode": {
    "name": "ipython",
    "version": 3
   },
   "file_extension": ".py",
   "mimetype": "text/x-python",
   "name": "python",
   "nbconvert_exporter": "python",
   "pygments_lexer": "ipython3",
   "version": "3.8.5"
  }
 },
 "nbformat": 4,
 "nbformat_minor": 4
}
